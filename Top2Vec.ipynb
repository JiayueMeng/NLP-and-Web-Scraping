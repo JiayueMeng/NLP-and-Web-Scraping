{
  "nbformat": 4,
  "nbformat_minor": 0,
  "metadata": {
    "colab": {
      "provenance": []
    },
    "kernelspec": {
      "name": "python3",
      "display_name": "Python 3"
    },
    "language_info": {
      "name": "python"
    },
    "accelerator": "GPU",
    "gpuClass": "standard"
  },
  "cells": [
    {
      "cell_type": "code",
      "execution_count": null,
      "metadata": {
        "colab": {
          "base_uri": "https://localhost:8080/"
        },
        "id": "lvEI8J24JChX",
        "outputId": "6b7a8b05-876c-4c37-bb5e-e9e784f0b596"
      },
      "outputs": [
        {
          "output_type": "stream",
          "name": "stdout",
          "text": [
            "Mounted at /content/gdrive\n"
          ]
        }
      ],
      "source": [
        "import pandas as pd\n",
        "from google.colab import drive\n",
        "import sys\n",
        "import os\n",
        "\n",
        "drive.mount(\"/content/gdrive\")\n",
        "os.chdir('/content/gdrive/My Drive/Colab Notebooks/nlp')"
      ]
    },
    {
      "cell_type": "code",
      "source": [
        "news_all = pd.read_csv(\"news_all.csv\")"
      ],
      "metadata": {
        "id": "7IOtDaumP3Ym"
      },
      "execution_count": null,
      "outputs": []
    },
    {
      "cell_type": "code",
      "source": [
        "docs = news_all.text.tolist()\n",
        "docs[0]"
      ],
      "metadata": {
        "colab": {
          "base_uri": "https://localhost:8080/",
          "height": 139
        },
        "id": "InYdzfQtQk5l",
        "outputId": "f61e6437-318d-45e1-d4b7-8a473ef58afd"
      },
      "execution_count": null,
      "outputs": [
        {
          "output_type": "execute_result",
          "data": {
            "text/plain": [
              "\"In an effort to combat a surge in gun violence, Houston Mayor Sylvester Turner implemented the One Safe Houston initiative that he said has made significant progress.\\n\\nTurner spoke to ABC News’ “GMA3” about engaging his community to join the fight against gun violence and how his city’s gun buyback program was able to voluntarily collect more than 845 guns in just one day.\\n\\nDemonstrators protest during the National Rifle Association annual convention in Houston, May 27, 2022. Bloomberg via Getty Images, FILE\\n\\nGMA3: What can you point to in the [gun buyback program] that works to actually, not just collect some guns, but to actually bring down the gun violence problem?\\n\\nTURNER: Look, it's not just one initiative. We put forth, in February of this year, an initiative called One Safe Houston. And it's a part of supporting our police department, adding 125 police officers more a day through our overtime initiative.\\n\\nSo it's adding more police, it's providing more technology, it's dealing with crisis prevention, intervention and diversion. It's our reentry program for people coming out of our criminal justice system, and then it's about a community initiative.\\n\\nThe gun buyback program is one of several. There's $1 million that I've allocated out of $53 million to the One Safe Houston initiative. So you have to look at it collectively. In terms of the response that we had a few weeks ago.\\n\\nI would tell you it was overwhelming. It was supposed to have been from 8 to 12. We end up having to cut it off at about 7 p.m., more than 845 guns were turned in and we gave priority vouchers to 150 other cars that we had to turn away because we couldn't get to it.\\n\\nSo I think that if we took one gun off the street that could have been used in seriously injuring or killing someone, then the program, the initiative was worth it.\\n\\nPolice officers collect guns during a buyback program in Miami, June 18, 2022. Bloomberg via Getty Images, FILE\\n\\nGMA3: And Mayor, I want to ask specifically about if you have any sort of way to gauge the effectiveness. I know you just launched this earlier in the year, but have you seen a change in the crime rate? What do you want to see?\\n\\nTURNER: Well, let me just tell you, we had people who came, mothers, for example, who came and said, “Look, I have too many guns in this house and I don't want them stolen and then used by someone else or I don't want any of my children or their friends to come and act and get a hold of these guns and then seriously injuring themselves.”\\n\\nWe had people who came and turned in automatics, who said, “Look, because of inflation and everything else, I need the money more so than this gun right now.” Two or three months down the road, he said it might be different. [But] those guns were removed.\\n\\nIn the state of Texas what we know, there are way, way too many guns and people can access these guns better than they can access going to vote.\\n\\nAnd so [we are doing] anything that we can do to draw attention to the fact that there are way too many guns and guns are the leading cause of death of our children in this country.\\n\\nAnd if we can remove 845-plus guns, as we did two weekends ago on that Saturday morning, then this program is worth it.\\n\\nAnd I will tell you, it was one way that the community could participate and in doing something to address public safety. And we plan on doing at least two others in this city over the next 2 to 3 months.\\n\\nMayor Sylvester Turner is interviewed in Houston, June 21, 2022. Bloomberg via Getty Images, FILE\\n\\nGMA3: Is this a matter of community engagement [and] that the citizens can actually feel like they are contributing in some way to a problem in Houston and other major cities?\\n\\nTURNER: It's about all of that and more. It's important for people to recognize that creating a safe city is not just about police. Law enforcement cannot do it alone. And even though we are provided $10.7 million in overtime for additional police, they can't do it alone. It's not just about the technology.\\n\\nThe community has to be an active participant in terms of creating a very safe city and people are willing to participate and you have to give them an opportunity to participate.\\n\\nAnd then bear in mind, in the state of Texas, the legislature last year implemented what we call House Bill 1927, where people can carry guns. There is no permit license permitted, I mean, required, no training. And so it has created this environment that really glorifies guns and people want to fill it. They want to be a part of the solution.\\n\\nAnd so the gun buyback program… was a voluntary relinquishment initiative. And let me underscore this. This is where the people themselves voluntarily brought their guns to us. And they were working in collaboration with the police, with our faith-based community, with our community activists and leaders and then the people themselves.\\n\\nSo it was a very collaborative initiative and we didn't know what to expect. But what I can tell you, the line was 2 miles long all day.\\n\\nGMA3: Houston's recorded the hottest July on record there. How are you holding up? How is the city's power grid? What more needs to be done to make sure that the people in your community can stay cool and stay safe?\\n\\nTURNER: Well, I would tell you that the Texas power grid, it's still unreliable. This has been a very, very hot summer.\\n\\nBut as chair of Climate and U.S. Climate Mayors, I would tell you climate change is real. The bill that was just passed by the Senate, the Inflation Reduction Act, will go a long way. That's historic funding for climate initiative. And so these storms are coming with greater frequency and greater intensity.\\n\\nIn the last seven years, the city of Houston has faced seven federally declared disasters. So the storms are coming with greater frequency. We are addressing that. We're learning to adapt. We're putting in place climate mitigation initiatives. We're planting 4.6 million trees this decade, using cooling pavement, a lot of redundancy in generators to really make sure that, especially communities that are underserved and under-resourced, that they are not left out and left behind.\""
            ],
            "application/vnd.google.colaboratory.intrinsic+json": {
              "type": "string"
            }
          },
          "metadata": {},
          "execution_count": 38
        }
      ]
    },
    {
      "cell_type": "code",
      "source": [
        "pip install top2vec"
      ],
      "metadata": {
        "id": "LAmFl4iCSU3t"
      },
      "execution_count": null,
      "outputs": []
    },
    {
      "cell_type": "code",
      "source": [
        "from top2vec import Top2Vec"
      ],
      "metadata": {
        "id": "kmdIZuiCSCyT"
      },
      "execution_count": null,
      "outputs": []
    },
    {
      "cell_type": "code",
      "source": [
        "model = Top2Vec(docs)"
      ],
      "metadata": {
        "colab": {
          "base_uri": "https://localhost:8080/"
        },
        "id": "7ucem71pS-YL",
        "outputId": "cd9bea66-3f0f-4c10-d646-d2d645413cb9"
      },
      "execution_count": null,
      "outputs": [
        {
          "output_type": "stream",
          "name": "stderr",
          "text": [
            "2022-08-10 16:25:58,260 - top2vec - INFO - Pre-processing documents for training\n",
            "INFO:top2vec:Pre-processing documents for training\n",
            "2022-08-10 16:26:08,651 - top2vec - INFO - Creating joint document/word embedding\n",
            "INFO:top2vec:Creating joint document/word embedding\n",
            "2022-08-10 16:43:21,208 - top2vec - INFO - Creating lower dimension embedding of documents\n",
            "INFO:top2vec:Creating lower dimension embedding of documents\n",
            "2022-08-10 16:43:31,413 - top2vec - INFO - Finding dense areas of documents\n",
            "INFO:top2vec:Finding dense areas of documents\n",
            "2022-08-10 16:43:31,527 - top2vec - INFO - Finding topics\n",
            "INFO:top2vec:Finding topics\n"
          ]
        }
      ]
    },
    {
      "cell_type": "code",
      "source": [
        "topic_size, topic_nums = model.get_topic_sizes()\n",
        "print(topic_size)\n",
        "print(topic_nums)"
      ],
      "metadata": {
        "colab": {
          "base_uri": "https://localhost:8080/"
        },
        "id": "nG1p-wY4THk0",
        "outputId": "f094f79d-82be-49cf-8f9a-56ad50e288c0"
      },
      "execution_count": null,
      "outputs": [
        {
          "output_type": "stream",
          "name": "stdout",
          "text": [
            "[171 158 125 125 121 100  99  96  89  88  87  79  77  76  72  72  72  69\n",
            "  66  65  63  62  62  62  60  60  58  55  53  53  52  49  48  46  45  43\n",
            "  42  41  41  40  39  38  37  37  37  36  35  35  34  33  33  31  31  31\n",
            "  31  31  30  30  30  29  29  29  28  28  28  27  27  27  26  26  26  25\n",
            "  24  24  24  24  23  23  23  22  21  20  19  18  16  16]\n",
            "[ 0  1  2  3  4  5  6  7  8  9 10 11 12 13 14 15 16 17 18 19 20 21 22 23\n",
            " 24 25 26 27 28 29 30 31 32 33 34 35 36 37 38 39 40 41 42 43 44 45 46 47\n",
            " 48 49 50 51 52 53 54 55 56 57 58 59 60 61 62 63 64 65 66 67 68 69 70 71\n",
            " 72 73 74 75 76 77 78 79 80 81 82 83 84 85]\n"
          ]
        }
      ]
    },
    {
      "cell_type": "code",
      "source": [
        "topic_mapping = model.hierarchical_topic_reduction(num_topics=4)"
      ],
      "metadata": {
        "id": "3lefb3ixeatS"
      },
      "execution_count": null,
      "outputs": []
    },
    {
      "cell_type": "code",
      "source": [
        "print(model.topic_words_reduced[0])\n",
        "print(model.topic_words_reduced[1])\n",
        "print(model.topic_words_reduced[2])\n",
        "print(model.topic_words_reduced[3])"
      ],
      "metadata": {
        "colab": {
          "base_uri": "https://localhost:8080/"
        },
        "id": "eRnnPd_Qe3ER",
        "outputId": "df72e69f-f0f0-4d47-beee-95da67afbbf2"
      },
      "execution_count": null,
      "outputs": [
        {
          "output_type": "stream",
          "name": "stdout",
          "text": [
            "['clicking' 'market' 'business' 'prices' 'inflation' 'supply' 'increase'\n",
            " 'costs' 'sellers' 'ticker' 'company' 'china' 'investors' 'energy'\n",
            " 'economic' 'tax' 'global' 'technology' 'markets' 'consumers'\n",
            " 'investments' 'covid' 'testing' 'revenue' 'demand' 'pandemic' 'inc'\n",
            " 'economist' 'cost' 'buyer' 'economy' 'plan' 'billion' 'manufacturing'\n",
            " 'companies' 'vehicles' 'invest' 'available' 'service' 'customer' 'cnbc'\n",
            " 'data' 'pricing' 'investing' 'increases' 'location' 'provide' 'variant'\n",
            " 'investment' 'virus']\n",
            "['trump' 'political' 'election' 'fbi' 'republicans' 'republican' 'gop'\n",
            " 'raid' 'president' 'lago' 'presidential' 'donald' 'democrats' 'committee'\n",
            " 'democratic' 'criminal' 'investigation' 'doj' 'voters' 'elections'\n",
            " 'justice' 'supporters' 'attorney' 'biden' 'mar' 'law' 'former'\n",
            " 'insurrection' 'warrant' 'classified' 'party' 'rep' 'accountability'\n",
            " 'conservative' 'congress' 'governor' 'riot' 'constitutional' 'department'\n",
            " 'candidates' 'elected' 'voting' 'pence' 'campaign' 'impeachment'\n",
            " 'secretary' 'candidate' 'police' 'allegedly' 'gov']\n",
            "['movie' 'film' 'myself' 'my' 'actor' 'comedy' 'starred' 'music' 'career'\n",
            " 'emmy' 'me' 'movies' 'actress' 'character' 'her' 'saget' 'series' 'kind'\n",
            " 'singer' 'artist' 'love' 'felt' 'awards' 'didn' 'mccurdy' 'friends'\n",
            " 'maybe' 'netflix' 'model' 'debut' 'films' 'really' 'musical' 'show'\n",
            " 'travolta' 'celebrity' 'wireimage' 'life' 'feel' 'song' 'am' 'laugh'\n",
            " 'hollywood' 'met' 'wanted' 'grammy' 'illustrated' 'franchise' 'story'\n",
            " 'episode']\n",
            "['nhl' 'season' 'gaudreau' 'roster' 'championship' 'notre' 'teammate'\n",
            " 'playoff' 'team' 'dame' 'offseason' 'irish' 'penguins' 'playoffs' 'teams'\n",
            " 'ericsson' 'recruiting' 'indycar' 'podium' 'finals' 'pic' 'coach' 'win'\n",
            " 'finish' 'semifinal' 'lakers' 'tackles' 'newgarden' 'd_farmer' 'players'\n",
            " 'game' 'final' 'player' 'league' 'scored' 'panthers' 'snaps' 'kraken'\n",
            " 'prix' 'games' 'hockey' 'finished' 'quarterback' 'semifinals' 'round'\n",
            " 'quarterbacks' 'career' 'watts' 'field' 'tournament']\n"
          ]
        }
      ]
    },
    {
      "cell_type": "code",
      "source": [
        "topic_words, word_scores, topic_nums = model.get_topics(1)"
      ],
      "metadata": {
        "id": "UIlZnysGTqMf"
      },
      "execution_count": null,
      "outputs": []
    },
    {
      "cell_type": "code",
      "source": [
        "for words, scores, nums in zip(topic_words, word_scores, topic_nums):\n",
        "  print(nums)\n",
        "  print(f\"Words: {words}\")"
      ],
      "metadata": {
        "colab": {
          "base_uri": "https://localhost:8080/"
        },
        "id": "UskR1QEjT4f4",
        "outputId": "7f08da40-57ad-4a1c-eb6c-dfc153ebfcff"
      },
      "execution_count": null,
      "outputs": [
        {
          "output_type": "stream",
          "name": "stdout",
          "text": [
            "0\n",
            "Words: ['lago' 'raid' 'fbi' 'mar' 'classified' 'agents' 'raided' 'doj'\n",
            " 'weaponization' 'warrant' 'trump' 'search' 'merrick' 'siege' 'documents'\n",
            " 'archives' 'accountability' 'garland' 'residence' 'palm' 'justice'\n",
            " 'boxes' 'dems' 'donald' 'department' 'presidential' 'president'\n",
            " 'unprecedented' 'records' 'justification' 'msnbc' 'barred'\n",
            " 'investigation' 'agencies' 'searched' 'familiar' 'republicans' 'tweeted'\n",
            " 'monday' 'estate' 'allegedly' 'florida' 'attorney' 'federal' 'executed'\n",
            " 'gop' 'mccarthy' 'committee' 'political' 'former']\n"
          ]
        }
      ]
    },
    {
      "cell_type": "code",
      "source": [
        "documents, document_scores, document_ids = model.search_documents_by_topic(topic_num = 0, num_docs = 10)\n",
        "for doc, doc_scores, doc_ids in zip(documents, document_scores, document_ids):\n",
        "  print(f\"Document: {doc_ids}, Score: {doc_scores}\")\n",
        "  print(doc)\n",
        "  print(\"---------------------------\")\n",
        "  print()"
      ],
      "metadata": {
        "colab": {
          "base_uri": "https://localhost:8080/"
        },
        "id": "xRZ1sPS6UPGN",
        "outputId": "0aefcce5-1b52-4dcf-f869-6a13a609b91f"
      },
      "execution_count": null,
      "outputs": [
        {
          "output_type": "stream",
          "name": "stdout",
          "text": [
            "Document: 527, Score: 0.8103057742118835\n",
            "Trump's Mar-a-Lago estate raided by FBI agents, sources confirm Multiple sources confirm to ABC News that former President Donald Trump's Mar-a-Lago estate was raided by FBI agents on Monday.\n",
            "---------------------------\n",
            "\n",
            "Document: 573, Score: 0.8069627285003662\n",
            "Trump's Mar-a-Lago estate raided by FBI agents, sources confirm Multiple sources confirm to ABC News that former President Donald Trump's Mar-a-Lago estate was raided by FBI agents on Monday.\n",
            "---------------------------\n",
            "\n",
            "Document: 377, Score: 0.802382230758667\n",
            "Republicans speak out against FBI search of Trump's Mar-a-Lago estate Many Republicans spoke out against the FBI executing a search warrant at former President Donald Trump's Mar-a-Lago estate.\n",
            "---------------------------\n",
            "\n",
            "Document: 692, Score: 0.7970706820487976\n",
            "Trump calls FBI search 'unannounced raid on my home' Sources said the FBI’s search warrant was approved by a federal judge in relation to an investigation into former President Donald Trump’s alleged mishandling of classified information.\n",
            "---------------------------\n",
            "\n",
            "Document: 341, Score: 0.7946050763130188\n",
            "Trump's Mar-a-Lago estate raided by FBI agents, sources confirm Multiple sources confirm to ABC News that former President Donald Trump's Mar-a-Lago estate was raided by FBI agents on Monday.\n",
            "---------------------------\n",
            "\n",
            "Document: 381, Score: 0.7907456159591675\n",
            "Trump calls FBI search 'unannounced raid on my home' Sources said the FBI’s search warrant was approved by a federal judge in relation to an investigation into former President Donald Trump’s alleged mishandling of classified information.\n",
            "---------------------------\n",
            "\n",
            "Document: 196, Score: 0.7895021438598633\n",
            "Trump calls FBI search 'unannounced raid on my home' Sources said the FBI’s search warrant was approved by a federal judge in relation to an investigation into former President Donald Trump’s alleged mishandling of classified information.\n",
            "---------------------------\n",
            "\n",
            "Document: 387, Score: 0.787409782409668\n",
            "Trump's Mar-a-Lago estate raided by FBI agents, sources confirm Multiple sources confirm to ABC News that former President Donald Trump's Mar-a-Lago estate was raided by FBI agents on Monday.\n",
            "---------------------------\n",
            "\n",
            "Document: 713, Score: 0.7851471900939941\n",
            "Trump's Mar-a-Lago estate raided by FBI agents, sources confirm Multiple sources confirm to ABC News that former President Donald Trump's Mar-a-Lago estate was raided by FBI agents on Monday.\n",
            "---------------------------\n",
            "\n",
            "Document: 202, Score: 0.7822458744049072\n",
            "Trump's Mar-a-Lago estate raided by FBI agents, sources confirm Multiple sources confirm to ABC News that former President Donald Trump's Mar-a-Lago estate was raided by FBI agents on Monday.\n",
            "---------------------------\n",
            "\n"
          ]
        }
      ]
    }
  ]
}